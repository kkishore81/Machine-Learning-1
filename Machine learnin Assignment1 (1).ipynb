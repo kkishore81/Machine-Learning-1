{
 "cells": [
  {
   "cell_type": "code",
   "execution_count": 1,
   "id": "29c671d4-30f0-4fb5-8b50-b3eb90846924",
   "metadata": {},
   "outputs": [],
   "source": [
    "# Q1- Explain the following with an example\n",
    "#1) Artificial Intelligence\n",
    "#2) Machine Learning\n",
    "#3) Deep learning"
   ]
  },
  {
   "cell_type": "code",
   "execution_count": null,
   "id": "8318813d-13ef-48ad-ad47-888d59e3702d",
   "metadata": {},
   "outputs": [],
   "source": [
    "\"\"\"\n",
    "Artificial intelligence (AI) is the ability of machines to learn and perform tasks that are typically associated with human intelligence, such as problem-solving and decision-making. \n",
    "For example, a chatbot that can hold a conversation with a human is an AI application.\n",
    "\n",
    "Machine learning is a type of AI that allows computers to learn without being explicitly programmed. Machine learning algorithms are trained on data, and they can then use that\n",
    "data to make predictions or decisions. For example, a machine learning algorithm could be trained on a dataset of images of cats and dogs, and then it could be used to \n",
    "classify new images as cats or dogs.\n",
    "\n",
    "Deep learning is a type of machine learning that uses artificial neural networks to learn from data. Neural networks are inspired by the human brain, \n",
    "and they can be used to solve complex problems that would be difficult or impossible for traditional machine learning algorithms to solve. \n",
    "For example, deep learning algorithms are used to power many of the most popular AI applications today,\n",
    "such as image recognition, natural language processing, and speech recognition.\"\"\""
   ]
  },
  {
   "cell_type": "code",
   "execution_count": null,
   "id": "b6d86810-f2ff-494d-9d24-e65e72b29802",
   "metadata": {},
   "outputs": [],
   "source": [
    "# Q2- What is supervised learning? List some examples of supervised learning."
   ]
  },
  {
   "cell_type": "code",
   "execution_count": 2,
   "id": "102fd6b7-b1a3-4de1-ae24-704a3ae8bd34",
   "metadata": {},
   "outputs": [],
   "source": [
    "#Supervised learning is a type of machine learning where the algorithm is trained on labeled data. This means that the data has been tagged with the correct output.\n",
    "#The algorithm then learns to associate the input data with the correct output. Some examples of supervised learning include:\n",
    "#1) Classification\n",
    "#2) Regression"
   ]
  },
  {
   "cell_type": "code",
   "execution_count": 3,
   "id": "13b0ea37-c996-446d-8b77-c3fd9d95f868",
   "metadata": {},
   "outputs": [],
   "source": [
    "#Q3What is unsupervised learning ? List some example of un supervised learning"
   ]
  },
  {
   "cell_type": "code",
   "execution_count": 4,
   "id": "1005bf90-bae5-4d0c-b4c4-c9f3cac39aee",
   "metadata": {},
   "outputs": [],
   "source": [
    "# Unsupervised learning is a type of machine learning where the algorithm is not trained on labeled data. This means that the data does not have any tags or labels associated with it. \n",
    "#The algorithm then learns to find patterns in the data on its own. Some examples of unsupervised learning include:\n",
    "# Clustering, Anomaly detection, Dimensionality reduction"
   ]
  },
  {
   "cell_type": "code",
   "execution_count": null,
   "id": "5acd248f-46fc-4c68-a293-b83869975f25",
   "metadata": {},
   "outputs": [],
   "source": [
    "Q4 What is the difference between AI, ML, DL, and DS?"
   ]
  },
  {
   "cell_type": "code",
   "execution_count": null,
   "id": "30360403-11c7-4f71-bac3-79ce95313e9d",
   "metadata": {},
   "outputs": [],
   "source": [
    "The differences between AI, ML, DL, and DS \n",
    "\n",
    "#Artificial intelligence (AI) is the broad field of computer science that deals with the creation of intelligent agents, which are systems that can reason, learn, and act autonomously.\n",
    "#Machine learning (ML) is a subset of AI that deals with the development of algorithms that can learn from data without being explicitly programmed.\n",
    "#Deep learning (DL) is a subset of ML that uses artificial neural networks to learn from data.\n",
    "3Data science (DS) is the field of study that deals with the collection, analysis, and interpretation of data."
   ]
  },
  {
   "cell_type": "code",
   "execution_count": null,
   "id": "6b2eb902-26b2-49cd-8ce7-b8cc03ca46c5",
   "metadata": {},
   "outputs": [],
   "source": [
    "# Q5- What are the main differences between supervised, unsupervised, and semi-supervised learning?"
   ]
  },
  {
   "cell_type": "code",
   "execution_count": 6,
   "id": "8a5f2ad6-87bf-4b7d-abc2-3faff3e7a935",
   "metadata": {},
   "outputs": [],
   "source": [
    "#The main differences between supervised, unsupervised, and semi-supervised learning :\n",
    "\n",
    "#Supervised learning: The algorithm is trained on labeled data.\n",
    "#Unsupervised learning: The algorithm is trained on unlabeled data.\n",
    "#Semi-supervised learning: The algorithm is trained on a combination of labeled and unlabeled data."
   ]
  },
  {
   "cell_type": "code",
   "execution_count": 7,
   "id": "2aaa01e0-7608-4810-855f-0910eb263a71",
   "metadata": {},
   "outputs": [],
   "source": [
    "# Q6 What is the train-test-validation split? Explain the importance of each term."
   ]
  },
  {
   "cell_type": "code",
   "execution_count": null,
   "id": "25d1218f-06db-40ff-9545-75c944c0e52b",
   "metadata": {},
   "outputs": [],
   "source": [
    "#The train-test-validation split is a technique used in machine learning to evaluate the performance of a model. \n",
    "#It involves splitting the dataset into three parts: the training set, the test set, and the validation set.\n",
    "#Training set: The data used to train the model.\n",
    "#Test set: The data used to evaluate the model's performance on unseen data.\n",
    "#Validation set: The data used to tune the model's hyperparameters."
   ]
  },
  {
   "cell_type": "code",
   "execution_count": 8,
   "id": "eb4143b6-20ae-41b8-9f1c-30e3e068a312",
   "metadata": {},
   "outputs": [],
   "source": [
    "# Q7 How can unsupervised learning be used to detect anomalies?"
   ]
  },
  {
   "cell_type": "code",
   "execution_count": null,
   "id": "53b3c061-a2e0-4b44-9a28-90da574967fa",
   "metadata": {},
   "outputs": [],
   "source": [
    "# Unsupervised learning can be used to detect anomalies by identifying data points that are significantly different from the rest of the data.\n",
    "# This can be done by clustering the data and identifying data points that do not belong to any cluster."
   ]
  },
  {
   "cell_type": "code",
   "execution_count": 10,
   "id": "63835b2a-5b29-4f7c-bfb9-56e36b7e3f57",
   "metadata": {},
   "outputs": [],
   "source": [
    "#Q8 List down some commonly used supervised algorithms and unsupervised learning algorithms."
   ]
  },
  {
   "cell_type": "code",
   "execution_count": null,
   "id": "2a153148-118e-445d-85df-490e13969e69",
   "metadata": {},
   "outputs": [],
   "source": [
    "\"\"\"Supervised learning algorithms:\n",
    "    \n",
    "Linear regression: Predicts a continuous value based on a set of independent variables.\n",
    "Logistic regression: Predicts a categorical value based on a set of independent variables.\n",
    "Decision trees: Creates a tree-like structure to classify data into different categories.\n",
    "Support vector machines: Finds a hyperplane that best separates two classes of data.\n",
    "Random forests: Combines multiple decision trees to improve accuracy.\n",
    "\n",
    "Unsupervised learning algorithms:\n",
    "K-means clustering: Groups similar data points together into clusters.\n",
    "Hierarchical clustering: Creates a hierarchy of clusters, with each cluster being a subset of a larger cluster.\n",
    "Anomaly detection: identifies data points that are significantly different from the rest of the data.\n",
    "Principal component analysis: Reduces the dimensionality of data while preserving as much information as possible.\n",
    "Natural language processing: Analyzes text data to extract meaning.\"\"\""
   ]
  }
 ],
 "metadata": {
  "kernelspec": {
   "display_name": "Python 3 (ipykernel)",
   "language": "python",
   "name": "python3"
  },
  "language_info": {
   "codemirror_mode": {
    "name": "ipython",
    "version": 3
   },
   "file_extension": ".py",
   "mimetype": "text/x-python",
   "name": "python",
   "nbconvert_exporter": "python",
   "pygments_lexer": "ipython3",
   "version": "3.10.8"
  }
 },
 "nbformat": 4,
 "nbformat_minor": 5
}
